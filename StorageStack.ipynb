{
 "cells": [
  {
   "cell_type": "markdown",
   "id": "65d21258",
   "metadata": {},
   "source": [
    "# Create StorageStack"
   ]
  },
  {
   "cell_type": "code",
   "execution_count": 1,
   "id": "ddc0d999",
   "metadata": {
    "scrolled": true
   },
   "outputs": [
    {
     "name": "stdout",
     "output_type": "stream",
     "text": [
      "CDK modules imported successfully\n"
     ]
    }
   ],
   "source": [
    "from aws_cdk import App, Stack\n",
    "from aws_cdk import aws_s3 as s3\n",
    "from aws_cdk import aws_dynamodb as dynamodb\n",
    "\n",
    "print(\"CDK modules imported successfully\")\n",
    "\n",
    "from constructs import Construct"
   ]
  },
  {
   "cell_type": "code",
   "execution_count": 2,
   "id": "4342d770",
   "metadata": {},
   "outputs": [],
   "source": [
    "class StorageStack(Stack):\n",
    "    def __init__(self, scope: Construct, id: str, **kwargs) -> None:\n",
    "        super().__init__(scope, id, **kwargs)\n",
    "\n",
    "        # Source and Destination Buckets\n",
    "        self.bucket_src = s3.Bucket(self, \"BucketSrc\")\n",
    "        self.bucket_dst = s3.Bucket(self, \"BucketDst\")\n",
    "\n",
    "        # DynamoDB Table\n",
    "        self.table_t = dynamodb.Table(\n",
    "            self, \"TableT\",\n",
    "            partition_key=dynamodb.Attribute(name=\"ObjectKey\", type=dynamodb.AttributeType.STRING),\n",
    "            sort_key=dynamodb.Attribute(name=\"Version\", type=dynamodb.AttributeType.NUMBER)\n",
    "        )\n",
    "\n",
    "        # Add GSI for Cleaner queries\n",
    "        self.table_t.add_global_secondary_index(\n",
    "            index_name=\"DisownedIndex\",\n",
    "            partition_key=dynamodb.Attribute(name=\"Status\", type=dynamodb.AttributeType.STRING),\n",
    "            sort_key=dynamodb.Attribute(name=\"DisownedTimestamp\", type=dynamodb.AttributeType.NUMBER)\n",
    "        )"
   ]
  },
  {
   "cell_type": "code",
   "execution_count": null,
   "id": "4626a8f4-edeb-4e40-9a03-1eeb4e4d62af",
   "metadata": {},
   "outputs": [],
   "source": []
  }
 ],
 "metadata": {
  "kernelspec": {
   "display_name": "Python 3 (ipykernel)",
   "language": "python",
   "name": "python3"
  },
  "language_info": {
   "codemirror_mode": {
    "name": "ipython",
    "version": 3
   },
   "file_extension": ".py",
   "mimetype": "text/x-python",
   "name": "python",
   "nbconvert_exporter": "python",
   "pygments_lexer": "ipython3",
   "version": "3.9.20"
  }
 },
 "nbformat": 4,
 "nbformat_minor": 5
}
