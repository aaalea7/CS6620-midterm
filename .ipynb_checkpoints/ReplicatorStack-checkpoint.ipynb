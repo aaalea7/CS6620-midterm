{
 "cells": [
  {
   "cell_type": "code",
   "execution_count": null,
   "id": "49241b3f",
   "metadata": {},
   "outputs": [],
   "source": [
    "from aws_cdk import (\n",
    "    Stack, aws_lambda as _lambda, aws_s3 as s3, aws_dynamodb as dynamodb,\n",
    "    aws_lambda_event_sources as event_sources,\n",
    ")\n",
    "from constructs import Construct\n",
    "import os"
   ]
  },
  {
   "cell_type": "code",
   "execution_count": null,
   "id": "172cc38d",
   "metadata": {},
   "outputs": [],
   "source": [
    "class ReplicatorStack(Stack):\n",
    "    def __init__(self, scope: Construct, id: str, storage_stack: StorageStack, **kwargs) -> None:\n",
    "        super().__init__(scope, id, **kwargs)\n",
    "\n",
    "        # Define Lambda function\n",
    "        replicator_lambda = _lambda.Function(\n",
    "            self, \"ReplicatorLambda\",\n",
    "            runtime=_lambda.Runtime.PYTHON_3_8,\n",
    "            handler=\"replicator_handler.handler\",\n",
    "            code=_lambda.Code.from_asset(\"lambda\"),\n",
    "            environment={\n",
    "                \"TABLE_NAME\": storage_stack.table_t.table_name,\n",
    "                \"BUCKET_DST\": storage_stack.bucket_dst.bucket_name\n",
    "            }\n",
    "        )\n",
    "\n",
    "        # Add S3 event trigger to Lambda\n",
    "        replicator_lambda.add_event_source(\n",
    "            event_sources.S3EventSource(storage_stack.bucket_src, events=[s3.EventType.OBJECT_CREATED, s3.EventType.OBJECT_REMOVED])\n",
    "        )\n",
    "\n",
    "        # Grant permissions to Lambda\n",
    "        storage_stack.table_t.grant_write_data(replicator_lambda)\n",
    "        storage_stack.bucket_src.grant_read(replicator_lambda)\n",
    "        storage_stack.bucket_dst.grant_write(replicator_lambda)"
   ]
  }
 ],
 "metadata": {
  "kernelspec": {
   "display_name": "Python 3 (ipykernel)",
   "language": "python",
   "name": "python3"
  },
  "language_info": {
   "codemirror_mode": {
    "name": "ipython",
    "version": 3
   },
   "file_extension": ".py",
   "mimetype": "text/x-python",
   "name": "python",
   "nbconvert_exporter": "python",
   "pygments_lexer": "ipython3",
   "version": "3.9.12"
  }
 },
 "nbformat": 4,
 "nbformat_minor": 5
}
