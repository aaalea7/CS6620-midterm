{
 "cells": [
  {
   "cell_type": "markdown",
   "id": "65d21258",
   "metadata": {},
   "source": [
    "# Create StorageStack"
   ]
  },
  {
   "cell_type": "code",
   "execution_count": 2,
   "id": "ddc0d999",
   "metadata": {
    "scrolled": true
   },
   "outputs": [
    {
     "ename": "ImportError",
     "evalue": "cannot import name 'Stack' from 'aws_cdk' (unknown location)",
     "output_type": "error",
     "traceback": [
      "\u001b[0;31m---------------------------------------------------------------------------\u001b[0m",
      "\u001b[0;31mImportError\u001b[0m                               Traceback (most recent call last)",
      "Input \u001b[0;32mIn [2]\u001b[0m, in \u001b[0;36m<cell line: 1>\u001b[0;34m()\u001b[0m\n\u001b[0;32m----> 1\u001b[0m \u001b[38;5;28;01mfrom\u001b[39;00m \u001b[38;5;21;01maws_cdk\u001b[39;00m \u001b[38;5;28;01mimport\u001b[39;00m (Stack, aws_s3 \u001b[38;5;28;01mas\u001b[39;00m s3, aws_dynamodb \u001b[38;5;28;01mas\u001b[39;00m dynamodb)\n",
      "\u001b[0;31mImportError\u001b[0m: cannot import name 'Stack' from 'aws_cdk' (unknown location)"
     ]
    }
   ],
   "source": [
    "from aws_cdk import (Stack, aws_s3 as s3, aws_dynamodb as dynamodb)\n",
    "from constructs import Construct"
   ]
  },
  {
   "cell_type": "code",
   "execution_count": null,
   "id": "4342d770",
   "metadata": {},
   "outputs": [],
   "source": [
    "class StorageStack(Stack):\n",
    "    def __init__(self, scope: Construct, id: str, **kwargs) -> None:\n",
    "        super().__init__(scope, id, **kwargs)\n",
    "\n",
    "        # Source and Destination Buckets\n",
    "        self.bucket_src = s3.Bucket(self, \"BucketSrc\")\n",
    "        self.bucket_dst = s3.Bucket(self, \"BucketDst\")\n",
    "\n",
    "        # DynamoDB Table\n",
    "        self.table_t = dynamodb.Table(\n",
    "            self, \"TableT\",\n",
    "            partition_key=dynamodb.Attribute(name=\"ObjectKey\", type=dynamodb.AttributeType.STRING),\n",
    "            sort_key=dynamodb.Attribute(name=\"Version\", type=dynamodb.AttributeType.NUMBER)\n",
    "        )\n",
    "\n",
    "        # Add GSI for Cleaner queries\n",
    "        self.table_t.add_global_secondary_index(\n",
    "            index_name=\"DisownedIndex\",\n",
    "            partition_key=dynamodb.Attribute(name=\"Status\", type=dynamodb.AttributeType.STRING),\n",
    "            sort_key=dynamodb.Attribute(name=\"DisownedTimestamp\", type=dynamodb.AttributeType.NUMBER)\n",
    "        )"
   ]
  }
 ],
 "metadata": {
  "kernelspec": {
   "display_name": "Python 3 (ipykernel)",
   "language": "python",
   "name": "python3"
  },
  "language_info": {
   "codemirror_mode": {
    "name": "ipython",
    "version": 3
   },
   "file_extension": ".py",
   "mimetype": "text/x-python",
   "name": "python",
   "nbconvert_exporter": "python",
   "pygments_lexer": "ipython3",
   "version": "3.9.12"
  }
 },
 "nbformat": 4,
 "nbformat_minor": 5
}
