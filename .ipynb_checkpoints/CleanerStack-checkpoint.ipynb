{
 "cells": [
  {
   "cell_type": "code",
   "execution_count": null,
   "id": "4dec183c",
   "metadata": {},
   "outputs": [],
   "source": [
    "from aws_cdk import (\n",
    "    Stack, aws_lambda as _lambda, aws_events as events, aws_events_targets as targets,\n",
    ")\n",
    "from constructs import Construct"
   ]
  },
  {
   "cell_type": "code",
   "execution_count": null,
   "id": "b03c870d",
   "metadata": {},
   "outputs": [],
   "source": [
    "class CleanerStack(Stack):\n",
    "    def __init__(self, scope: Construct, id: str, storage_stack: StorageStack, **kwargs) -> None:\n",
    "        super().__init__(scope, id, **kwargs)\n",
    "\n",
    "        # Define Lambda function\n",
    "        cleaner_lambda = _lambda.Function(\n",
    "            self, \"CleanerLambda\",\n",
    "            runtime=_lambda.Runtime.PYTHON_3_8,\n",
    "            handler=\"cleaner_handler.handler\",\n",
    "            code=_lambda.Code.from_asset(\"lambda\"),\n",
    "            environment={\n",
    "                \"TABLE_NAME\": storage_stack.table_t.table_name,\n",
    "                \"BUCKET_DST\": storage_stack.bucket_dst.bucket_name\n",
    "            }\n",
    "        )\n",
    "\n",
    "        # Schedule Lambda to run every 5 seconds\n",
    "        rule = events.Rule(\n",
    "            self, \"CleanerSchedule\",\n",
    "            schedule=events.Schedule.rate(cdk.Duration.seconds(5))\n",
    "        )\n",
    "        rule.add_target(targets.LambdaFunction(cleaner_lambda))\n",
    "\n",
    "        # Grant permissions to Lambda\n",
    "        storage_stack.table_t.grant_read_write_data(cleaner_lambda)\n",
    "        storage_stack.bucket_dst.grant_delete(cleaner_lambda)"
   ]
  }
 ],
 "metadata": {
  "kernelspec": {
   "display_name": "Python 3 (ipykernel)",
   "language": "python",
   "name": "python3"
  },
  "language_info": {
   "codemirror_mode": {
    "name": "ipython",
    "version": 3
   },
   "file_extension": ".py",
   "mimetype": "text/x-python",
   "name": "python",
   "nbconvert_exporter": "python",
   "pygments_lexer": "ipython3",
   "version": "3.9.12"
  }
 },
 "nbformat": 4,
 "nbformat_minor": 5
}
