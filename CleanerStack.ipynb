{
 "cells": [
  {
   "cell_type": "code",
   "execution_count": 1,
   "id": "4dec183c",
   "metadata": {},
   "outputs": [],
   "source": [
    "from aws_cdk import (\n",
    "    Stack, aws_lambda as _lambda, aws_events as events, aws_events_targets as targets,\n",
    ")\n",
    "from constructs import Construct"
   ]
  },
  {
   "cell_type": "code",
   "execution_count": 2,
   "id": "b03c870d",
   "metadata": {},
   "outputs": [
    {
     "ename": "NameError",
     "evalue": "name 'StorageStack' is not defined",
     "output_type": "error",
     "traceback": [
      "\u001b[0;31m---------------------------------------------------------------------------\u001b[0m",
      "\u001b[0;31mNameError\u001b[0m                                 Traceback (most recent call last)",
      "Cell \u001b[0;32mIn[2], line 1\u001b[0m\n\u001b[0;32m----> 1\u001b[0m \u001b[38;5;28;01mclass\u001b[39;00m \u001b[38;5;21;01mCleanerStack\u001b[39;00m(Stack):\n\u001b[1;32m      2\u001b[0m     \u001b[38;5;28;01mdef\u001b[39;00m \u001b[38;5;21m__init__\u001b[39m(\u001b[38;5;28mself\u001b[39m, scope: Construct, \u001b[38;5;28mid\u001b[39m: \u001b[38;5;28mstr\u001b[39m, storage_stack: StorageStack, \u001b[38;5;241m*\u001b[39m\u001b[38;5;241m*\u001b[39mkwargs) \u001b[38;5;241m-\u001b[39m\u001b[38;5;241m>\u001b[39m \u001b[38;5;28;01mNone\u001b[39;00m:\n\u001b[1;32m      3\u001b[0m         \u001b[38;5;28msuper\u001b[39m()\u001b[38;5;241m.\u001b[39m\u001b[38;5;21m__init__\u001b[39m(scope, \u001b[38;5;28mid\u001b[39m, \u001b[38;5;241m*\u001b[39m\u001b[38;5;241m*\u001b[39mkwargs)\n",
      "Cell \u001b[0;32mIn[2], line 2\u001b[0m, in \u001b[0;36mCleanerStack\u001b[0;34m()\u001b[0m\n\u001b[1;32m      1\u001b[0m \u001b[38;5;28;01mclass\u001b[39;00m \u001b[38;5;21;01mCleanerStack\u001b[39;00m(Stack):\n\u001b[0;32m----> 2\u001b[0m     \u001b[38;5;28;01mdef\u001b[39;00m \u001b[38;5;21m__init__\u001b[39m(\u001b[38;5;28mself\u001b[39m, scope: Construct, \u001b[38;5;28mid\u001b[39m: \u001b[38;5;28mstr\u001b[39m, storage_stack: \u001b[43mStorageStack\u001b[49m, \u001b[38;5;241m*\u001b[39m\u001b[38;5;241m*\u001b[39mkwargs) \u001b[38;5;241m-\u001b[39m\u001b[38;5;241m>\u001b[39m \u001b[38;5;28;01mNone\u001b[39;00m:\n\u001b[1;32m      3\u001b[0m         \u001b[38;5;28msuper\u001b[39m()\u001b[38;5;241m.\u001b[39m\u001b[38;5;21m__init__\u001b[39m(scope, \u001b[38;5;28mid\u001b[39m, \u001b[38;5;241m*\u001b[39m\u001b[38;5;241m*\u001b[39mkwargs)\n\u001b[1;32m      5\u001b[0m         \u001b[38;5;66;03m# Define Lambda function\u001b[39;00m\n",
      "\u001b[0;31mNameError\u001b[0m: name 'StorageStack' is not defined"
     ]
    }
   ],
   "source": [
    "class CleanerStack(Stack):\n",
    "    def __init__(self, scope: Construct, id: str, storage_stack: StorageStack, **kwargs) -> None:\n",
    "        super().__init__(scope, id, **kwargs)\n",
    "\n",
    "        # Define Lambda function\n",
    "        cleaner_lambda = _lambda.Function(\n",
    "            self, \"CleanerLambda\",\n",
    "            runtime=_lambda.Runtime.PYTHON_3_8,\n",
    "            handler=\"cleaner_handler.handler\",\n",
    "            code=_lambda.Code.from_asset(\"lambda\"),\n",
    "            environment={\n",
    "                \"TABLE_NAME\": storage_stack.table_t.table_name,\n",
    "                \"BUCKET_DST\": storage_stack.bucket_dst.bucket_name\n",
    "            }\n",
    "        )\n",
    "\n",
    "        # Schedule Lambda to run every 5 seconds\n",
    "        rule = events.Rule(\n",
    "            self, \"CleanerSchedule\",\n",
    "            schedule=events.Schedule.rate(cdk.Duration.seconds(5))\n",
    "        )\n",
    "        rule.add_target(targets.LambdaFunction(cleaner_lambda))\n",
    "\n",
    "        # Grant permissions to Lambda\n",
    "        storage_stack.table_t.grant_read_write_data(cleaner_lambda)\n",
    "        storage_stack.bucket_dst.grant_delete(cleaner_lambda)"
   ]
  },
  {
   "cell_type": "code",
   "execution_count": null,
   "id": "fc40f9a1-3afb-4737-b211-cd9af84a3432",
   "metadata": {},
   "outputs": [],
   "source": []
  }
 ],
 "metadata": {
  "kernelspec": {
   "display_name": "Python 3 (ipykernel)",
   "language": "python",
   "name": "python3"
  },
  "language_info": {
   "codemirror_mode": {
    "name": "ipython",
    "version": 3
   },
   "file_extension": ".py",
   "mimetype": "text/x-python",
   "name": "python",
   "nbconvert_exporter": "python",
   "pygments_lexer": "ipython3",
   "version": "3.9.20"
  }
 },
 "nbformat": 4,
 "nbformat_minor": 5
}
