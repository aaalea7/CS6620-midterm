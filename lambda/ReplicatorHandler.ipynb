{
 "cells": [
  {
   "cell_type": "code",
   "execution_count": null,
   "id": "51b61196",
   "metadata": {},
   "outputs": [],
   "source": [
    "import boto3\n",
    "from datetime import datetime\n",
    "import os"
   ]
  },
  {
   "cell_type": "code",
   "execution_count": null,
   "id": "95d7cc99",
   "metadata": {},
   "outputs": [],
   "source": [
    "s3 = boto3.client(\"s3\")\n",
    "dynamodb = boto3.resource(\"dynamodb\")\n",
    "table = dynamodb.Table(os.environ[\"TABLE_NAME\"])"
   ]
  },
  {
   "cell_type": "code",
   "execution_count": null,
   "id": "8667a8ea",
   "metadata": {},
   "outputs": [],
   "source": [
    "def handler(event, context):\n",
    "    for record in event[\"Records\"]:\n",
    "        event_name = record[\"eventName\"]\n",
    "        src_bucket = record[\"s3\"][\"bucket\"][\"name\"]\n",
    "        object_key = record[\"s3\"][\"object\"][\"key\"]\n",
    "\n",
    "        if \"ObjectCreated\" in event_name:\n",
    "            handle_put_event(object_key, src_bucket)\n",
    "        elif \"ObjectRemoved\" in event_name:\n",
    "            handle_delete_event(object_key)\n",
    "\n",
    "def handle_put_event(object_key, src_bucket):\n",
    "    dst_bucket = os.environ[\"BUCKET_DST\"]\n",
    "    timestamp = int(datetime.now().timestamp())\n",
    "    copy_key = f\"{object_key}-{timestamp}\"\n",
    "\n",
    "    # Copy object to destination bucket\n",
    "    s3.copy_object(\n",
    "        Bucket=dst_bucket,\n",
    "        CopySource={\"Bucket\": src_bucket, \"Key\": object_key},\n",
    "        Key=copy_key\n",
    "    )\n",
    "\n",
    "    # Update DynamoDB table with new version\n",
    "    table.put_item(\n",
    "        Item={\n",
    "            \"ObjectKey\": object_key,\n",
    "            \"Version\": timestamp,\n",
    "            \"CopyObjectKey\": copy_key,\n",
    "            \"Status\": \"active\"\n",
    "        }\n",
    "    )\n",
    "\n",
    "def handle_delete_event(object_key):\n",
    "    # Update DynamoDB to mark the object as disowned\n",
    "    items = table.query(\n",
    "        KeyConditionExpression=boto3.dynamodb.conditions.Key(\"ObjectKey\").eq(object_key)\n",
    "    )[\"Items\"]\n",
    "\n",
    "    for item in items:\n",
    "        table.update_item(\n",
    "            Key={\"ObjectKey\": object_key, \"Version\": item[\"Version\"]},\n",
    "            UpdateExpression=\"SET #s = :s, DisownedTimestamp = :ts\",\n",
    "            ExpressionAttributeNames={\"#s\": \"Status\"},\n",
    "            ExpressionAttributeValues={\":s\": \"disowned\", \":ts\": int(datetime.now().timestamp())}\n",
    "        )"
   ]
  }
 ],
 "metadata": {
  "kernelspec": {
   "display_name": "Python 3 (ipykernel)",
   "language": "python",
   "name": "python3"
  },
  "language_info": {
   "codemirror_mode": {
    "name": "ipython",
    "version": 3
   },
   "file_extension": ".py",
   "mimetype": "text/x-python",
   "name": "python",
   "nbconvert_exporter": "python",
   "pygments_lexer": "ipython3",
   "version": "3.9.12"
  }
 },
 "nbformat": 4,
 "nbformat_minor": 5
}
