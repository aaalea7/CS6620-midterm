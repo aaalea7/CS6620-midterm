{
 "cells": [
  {
   "cell_type": "code",
   "execution_count": null,
   "id": "1cd978ac",
   "metadata": {},
   "outputs": [],
   "source": [
    "import boto3\n",
    "import os\n",
    "from datetime import datetime"
   ]
  },
  {
   "cell_type": "code",
   "execution_count": null,
   "id": "84592dba",
   "metadata": {},
   "outputs": [],
   "source": [
    "s3 = boto3.client(\"s3\")\n",
    "dynamodb = boto3.resource(\"dynamodb\")\n",
    "table = dynamodb.Table(os.environ[\"TABLE_NAME\"])"
   ]
  },
  {
   "cell_type": "code",
   "execution_count": null,
   "id": "e85bd11a",
   "metadata": {},
   "outputs": [],
   "source": [
    "def handler(event, context):\n",
    "    dst_bucket = os.environ[\"BUCKET_DST\"]\n",
    "    current_time = int(datetime.now().timestamp())\n",
    "\n",
    "    # Query disowned items older than 10 seconds\n",
    "    items = table.query(\n",
    "        IndexName=\"DisownedIndex\",\n",
    "        KeyConditionExpression=boto3.dynamodb.conditions.Key(\"Status\").eq(\"disowned\")\n",
    "    )[\"Items\"]\n",
    "\n",
    "    for item in items:\n",
    "        if current_time - item[\"DisownedTimestamp\"] > 10:\n",
    "            # Delete the copy from the destination bucket\n",
    "            s3.delete_object(Bucket=dst_bucket, Key=item[\"CopyObjectKey\"])\n",
    "\n",
    "            # Update DynamoDB to remove the deleted copy\n",
    "            table.delete_item(\n",
    "                Key={\"ObjectKey\": item[\"ObjectKey\"], \"Version\": item[\"Version\"]}\n",
    "            )"
   ]
  }
 ],
 "metadata": {
  "kernelspec": {
   "display_name": "Python 3 (ipykernel)",
   "language": "python",
   "name": "python3"
  },
  "language_info": {
   "codemirror_mode": {
    "name": "ipython",
    "version": 3
   },
   "file_extension": ".py",
   "mimetype": "text/x-python",
   "name": "python",
   "nbconvert_exporter": "python",
   "pygments_lexer": "ipython3",
   "version": "3.9.12"
  }
 },
 "nbformat": 4,
 "nbformat_minor": 5
}
